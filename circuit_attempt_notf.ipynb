{
 "cells": [
  {
   "cell_type": "code",
   "execution_count": 2,
   "metadata": {},
   "outputs": [],
   "source": [
    "import pennylane as qml"
   ]
  },
  {
   "cell_type": "code",
   "execution_count": 3,
   "metadata": {},
   "outputs": [],
   "source": [
    "import numpy as np"
   ]
  },
  {
   "cell_type": "code",
   "execution_count": 4,
   "metadata": {},
   "outputs": [],
   "source": [
    "import strawberryfields as sf"
   ]
  },
  {
   "cell_type": "code",
   "execution_count": 5,
   "metadata": {},
   "outputs": [],
   "source": [
    "import tensorflow as tf"
   ]
  },
  {
   "cell_type": "code",
   "execution_count": null,
   "metadata": {},
   "outputs": [],
   "source": []
  },
  {
   "cell_type": "code",
   "execution_count": 6,
   "metadata": {},
   "outputs": [],
   "source": [
    "from numpy import pi,sqrt"
   ]
  },
  {
   "cell_type": "code",
   "execution_count": 7,
   "metadata": {},
   "outputs": [],
   "source": [
    "from strawberryfields.ops import *"
   ]
  },
  {
   "cell_type": "code",
   "execution_count": 8,
   "metadata": {},
   "outputs": [],
   "source": [
    "prog = sf.Program(10)\n"
   ]
  },
  {
   "cell_type": "code",
   "execution_count": 9,
   "metadata": {},
   "outputs": [],
   "source": [
    "with prog.context as q:\n",
    "    #prepare intial states of inputs!\n",
    "    Squeezed(0) | q[0]\n",
    "    Squeezed(0) | q[1]\n",
    "    Squeezed(0) | q[2]\n",
    "    Squeezed(0) | q[3]\n",
    "    Squeezed(0) | q[4]\n",
    "    Squeezed(0) | q[5]\n",
    "    Squeezed(0) | q[6]\n",
    "    Squeezed(0) | q[7]\n",
    "    Squeezed(0) | q[8]\n",
    "    Squeezed(0) | q[9]\n",
    "    \n",
    "    #apply gates in encoding layer! (phase gates)\n",
    "    #Note = Rgate = phase rotation gate\n",
    "    Rgate(0) | q[0]\n",
    "    Rgate(0) | q[1]\n",
    "    Rgate(0) | q[2]\n",
    "    Rgate(0) | q[3]\n",
    "    Rgate(0) | q[4]\n",
    "    Rgate(0) | q[5]\n",
    "    Rgate(0) | q[6]\n",
    "    Rgate(0) | q[7]\n",
    "    Rgate(0) | q[8]\n",
    "    Rgate(0) | q[9]\n",
    "    \n",
    "    #beamsplitters in First hidden layer\n",
    "    BS = BSgate(pi/4,pi)\n",
    "    BS | (q[0], q[1])\n",
    "    BS | (q[2], q[3])\n",
    "    BS | (q[4], q[5])\n",
    "    BS | (q[6], q[7])\n",
    "    BS | (q[8], q[9])\n",
    "    \n",
    "    #Measurements in First Hidden Layer\n",
    "    \n",
    "    MeasureFock() | q[0]\n",
    "    MeasureFock() | q[9]\n",
    "    \n",
    "    #beamsplitters in second hidden layer\n",
    "    \n",
    "    BS | (q[1],q[2])\n",
    "    BS | (q[3],q[4])\n",
    "    BS | (q[5],q[6])\n",
    "    BS | (q[7],q[8])\n",
    "    \n",
    "    #measurements in second hidden layer\n",
    "    \n",
    "    MeasureFock() | q[1]\n",
    "    MeasureFock() | q[8]\n",
    "    \n",
    "    #beamsplitters in third hidden layer\n",
    "    \n",
    "    BS | (q[2],q[3])\n",
    "    BS | (q[4],q[5])\n",
    "    BS | (q[6],q[7])\n",
    "    \n",
    "    #measurements in third hidden layer\n",
    "    \n",
    "    MeasureFock() | q[2]\n",
    "    MeasureFock() | q[7]\n",
    "    \n",
    "    #beamssplitters in fourth hidden layer\n",
    "    \n",
    "    BS | (q[3],q[4])\n",
    "    BS | (q[5],q[6])\n",
    "    \n",
    "    #measurements in the fourth hidden layer\n",
    "    \n",
    "    MeasureFock() | q[3]\n",
    "    MeasureFock() | q[6]\n",
    "    \n",
    "    #beamsplitters in the fifth hidden layer\n",
    "    \n",
    "    BS | (q[4],q[5])\n",
    "    \n",
    "    #measurements in the fifth (and final!) hidden layer\n",
    "    \n",
    "    MeasureFock() | q[4]\n",
    "    MeasureFock() | q[5]"
   ]
  },
  {
   "cell_type": "code",
   "execution_count": 11,
   "metadata": {},
   "outputs": [],
   "source": [
    "eng = sf.Engine('fock', backend_options = {\"cutoff_dim\": 1}) #i have no idea how to pick this number or if its right i will probably need to change it"
   ]
  },
  {
   "cell_type": "code",
   "execution_count": 12,
   "metadata": {},
   "outputs": [],
   "source": [
    "result = eng.run(prog, shots=1, modes=None, compile_options={})"
   ]
  },
  {
   "cell_type": "code",
   "execution_count": 14,
   "metadata": {},
   "outputs": [],
   "source": [
    "state = result.state"
   ]
  },
  {
   "cell_type": "code",
   "execution_count": 15,
   "metadata": {},
   "outputs": [
    {
     "data": {
      "text/plain": [
       "array([[[[[[[[1.]]]]]]]])"
      ]
     },
     "execution_count": 15,
     "metadata": {},
     "output_type": "execute_result"
    }
   ],
   "source": [
    "fock_probs = state.all_fock_probs()\n",
    "fock_probs.shape\n",
    "np.sum(fock_probs, axis=(0,1))"
   ]
  },
  {
   "cell_type": "code",
   "execution_count": null,
   "metadata": {},
   "outputs": [],
   "source": [
    "# i think i did something wrong because line above gives weird results lol"
   ]
  }
 ],
 "metadata": {
  "kernelspec": {
   "display_name": "Python 3",
   "language": "python",
   "name": "python3"
  },
  "language_info": {
   "codemirror_mode": {
    "name": "ipython",
    "version": 3
   },
   "file_extension": ".py",
   "mimetype": "text/x-python",
   "name": "python",
   "nbconvert_exporter": "python",
   "pygments_lexer": "ipython3",
   "version": "3.8.5"
  }
 },
 "nbformat": 4,
 "nbformat_minor": 4
}
